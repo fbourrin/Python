{
  "nbformat": 4,
  "nbformat_minor": 0,
  "metadata": {
    "colab": {
      "provenance": [],
      "authorship_tag": "ABX9TyOKxJqsCXw1I3Ujt5wQSC1W",
      "include_colab_link": true
    },
    "kernelspec": {
      "name": "python3",
      "display_name": "Python 3"
    },
    "language_info": {
      "name": "python"
    }
  },
  "cells": [
    {
      "cell_type": "markdown",
      "metadata": {
        "id": "view-in-github",
        "colab_type": "text"
      },
      "source": [
        "<a href=\"https://colab.research.google.com/github/fbourrin/Python/blob/main/TD2_Data_Analysis.ipynb\" target=\"_parent\"><img src=\"https://colab.research.google.com/assets/colab-badge.svg\" alt=\"Open In Colab\"/></a>"
      ]
    },
    {
      "cell_type": "markdown",
      "source": [
        "# DataFrame plus complet\n",
        "Il y a sur MOODLE un fichier plus complet qui s'appelle `donnees-systeme-solaire-solar-system-data.csv`. \n",
        "## Question 1\n",
        "Ouvrez ce fichier et appelez le **df** comme dataframe, la colonne des indices étant la colonne 0. \n",
        "\n",
        "Une fois ouvert, ajoutez une ligne avec **df** à la fin de la cellule avant de la lancer, cela vous permettra de regarder à quoi ressemble le dataframe.\n",
        "\n",
        "Vous pouvez aussi taper df.columns pour voir l'ensemble des variables disponibles"
      ],
      "metadata": {
        "id": "hajb2xJT4dDL"
      }
    },
    {
      "cell_type": "code",
      "source": [
        "import matplotlib.pyplot as plt\n",
        "import numpy as np\n",
        "import pandas as pd"
      ],
      "metadata": {
        "id": "uM28Ebng510C"
      },
      "execution_count": null,
      "outputs": []
    },
    {
      "cell_type": "code",
      "execution_count": null,
      "metadata": {
        "id": "BrnBWIBR3uZ6"
      },
      "outputs": [],
      "source": [
        "from google.colab import files # importer un fichier depuis colab\n",
        "uploaded = files.upload() # choisir donnees-systeme-solaire-solar-system-data.csv"
      ]
    },
    {
      "cell_type": "code",
      "source": [
        "# à compléter"
      ],
      "metadata": {
        "id": "dQWD8IJs6Gqw"
      },
      "execution_count": null,
      "outputs": []
    },
    {
      "cell_type": "markdown",
      "source": [
        "## Question 2\n",
        "Il n'y a pas de colonne de volume, nous allons donc la rajouter. On fait l'approximation que les planètes sont sphériques. La formule du volume d'une sphère de diamètre **d** est \n",
        "$$V = \\frac{\\pi}{6}d^3$$\n",
        "\n",
        "Ajoutez une colonne **Volume** à **df** qui contient les données de volume des planètes. Pour $\\pi$ on peut utiliser `np.pi`."
      ],
      "metadata": {
        "id": "HkCKATf56J_p"
      }
    },
    {
      "cell_type": "code",
      "source": [
        "# à compléter"
      ],
      "metadata": {
        "id": "dXkiDTwK6Nf_"
      },
      "execution_count": null,
      "outputs": []
    },
    {
      "cell_type": "markdown",
      "source": [
        "# Question 3\n",
        "Extraire une dataframe comportant les données des planètes telluriques seulement, et les trois variables de température: `Average_Temperature`, `Lowest_temperature` et `Highest_temperature`. On appelera ce dataframe **tellurique_temperature**\n",
        "Utiliser la fonction Kind"
      ],
      "metadata": {
        "id": "hs-TayB76hEu"
      }
    },
    {
      "cell_type": "code",
      "source": [
        "# à compléter"
      ],
      "metadata": {
        "id": "W0Yk7nLr6pPh"
      },
      "execution_count": null,
      "outputs": []
    },
    {
      "cell_type": "markdown",
      "source": [
        "## Question 4\n",
        "En utilisant `barh`, réliser un diagramme en barres horizontales présentant les trois variables de température."
      ],
      "metadata": {
        "id": "n1oEGC3K6_Gr"
      }
    },
    {
      "cell_type": "code",
      "source": [
        "# à compléter"
      ],
      "metadata": {
        "id": "uIVE-Kic7DQc"
      },
      "execution_count": null,
      "outputs": []
    },
    {
      "cell_type": "markdown",
      "source": [
        "## Question 5\n",
        "Petite exploration: trouver la variable qui corrèle le mieux à la température en utilisant `corr`"
      ],
      "metadata": {
        "id": "xxdeJhOe7LtQ"
      }
    },
    {
      "cell_type": "code",
      "source": [
        "# à compléter"
      ],
      "metadata": {
        "id": "006Y92mI7VwQ"
      },
      "execution_count": null,
      "outputs": []
    },
    {
      "cell_type": "markdown",
      "source": [
        "## Question 6\n",
        "Comparer les planètes telluriques et gazeuses avec la fonction groupby: on calculera la moyenne des variables, ce qui permettra de donner des caractéristiques pour chacun des groupes."
      ],
      "metadata": {
        "id": "WEDBAObD7bS0"
      }
    },
    {
      "cell_type": "code",
      "source": [
        "# à compléter"
      ],
      "metadata": {
        "id": "wrMTYgZQ7fmr"
      },
      "execution_count": null,
      "outputs": []
    }
  ]
}