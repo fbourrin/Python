{
  "nbformat": 4,
  "nbformat_minor": 0,
  "metadata": {
    "colab": {
      "provenance": [],
      "collapsed_sections": [
        "0_aOAxY5fvUM",
        "HxyhH6uNqqwR",
        "PV7CclasqZsk",
        "79U3bWObAZgk"
      ],
      "authorship_tag": "ABX9TyNAeU0krKsCsi47qitZGStP",
      "include_colab_link": true
    },
    "kernelspec": {
      "name": "python3",
      "display_name": "Python 3"
    },
    "language_info": {
      "name": "python"
    }
  },
  "cells": [
    {
      "cell_type": "markdown",
      "metadata": {
        "id": "view-in-github",
        "colab_type": "text"
      },
      "source": [
        "<a href=\"https://colab.research.google.com/github/fbourrin/Python/blob/main/TD1_Python.ipynb\" target=\"_parent\"><img src=\"https://colab.research.google.com/assets/colab-badge.svg\" alt=\"Open In Colab\"/></a>"
      ]
    },
    {
      "cell_type": "markdown",
      "source": [
        "# Introduction\n",
        "Introduction à Colab Notebooks<br />\n",
        "Outils collaboratifs avec Python intégré<br />\n",
        "Nombreuses librairies (Numpy, Pandas, Xarray, Matplotlib)\n",
        "\n"
      ],
      "metadata": {
        "id": "8YyDuRFUdDxP"
      }
    },
    {
      "cell_type": "markdown",
      "source": [
        "#Bases de Python\n",
        "https://courspython.com/bases-python.html"
      ],
      "metadata": {
        "id": "0_aOAxY5fvUM"
      }
    },
    {
      "cell_type": "markdown",
      "source": [
        "La fonction print"
      ],
      "metadata": {
        "id": "AqJvunSxq9Oi"
      }
    },
    {
      "cell_type": "code",
      "source": [
        "print(\"hello world\")"
      ],
      "metadata": {
        "colab": {
          "base_uri": "https://localhost:8080/"
        },
        "id": "JzPARAYvh7Hu",
        "outputId": "2bf22e23-eddc-4b31-9768-631d42a29e51"
      },
      "execution_count": null,
      "outputs": [
        {
          "output_type": "stream",
          "name": "stdout",
          "text": [
            "hello world\n"
          ]
        }
      ]
    },
    {
      "cell_type": "markdown",
      "source": [
        "La fonction range().<br />\n",
        "Si vous avez besoin de créer une suite d’entiers, vous pouvez utiliser la fonction range(). Elle génère une suite arithmétique."
      ],
      "metadata": {
        "id": "5XcEUkySrCLq"
      }
    },
    {
      "cell_type": "code",
      "source": [
        "range(10)"
      ],
      "metadata": {
        "id": "Way6AwNxrH_Q"
      },
      "execution_count": null,
      "outputs": []
    },
    {
      "cell_type": "markdown",
      "source": [
        "En language Python 3, si on souhaite afficher les valeurs, il est nécessaire de convertir le résultat en liste grâce à la fonction list(). Par exemple :"
      ],
      "metadata": {
        "id": "bBQbig9-rhRS"
      }
    },
    {
      "cell_type": "code",
      "source": [
        "list(range(10))"
      ],
      "metadata": {
        "id": "NMUBEszCrjYJ"
      },
      "execution_count": null,
      "outputs": []
    },
    {
      "cell_type": "markdown",
      "source": [
        "Accès aux éléments d’une liste"
      ],
      "metadata": {
        "id": "IhEhqKfVr09s"
      }
    },
    {
      "cell_type": "code",
      "source": [
        "a = list(range(1,10,2))\n",
        "a"
      ],
      "metadata": {
        "id": "0aILO1xZr49M"
      },
      "execution_count": null,
      "outputs": []
    },
    {
      "cell_type": "markdown",
      "source": [
        "La fonction len() renvoie le nombre d’éléments. Par exemple :"
      ],
      "metadata": {
        "id": "dmVamH0dZWo1"
      }
    },
    {
      "cell_type": "code",
      "source": [
        "a = list(range(7,10))\n",
        "len(a)"
      ],
      "metadata": {
        "id": "ehC73XceeKFo"
      },
      "execution_count": null,
      "outputs": []
    },
    {
      "cell_type": "markdown",
      "source": [
        "Voici un premier exemple de programme comprenant un boucle for:"
      ],
      "metadata": {
        "id": "-6y2MDEbZxO_"
      }
    },
    {
      "cell_type": "code",
      "source": [
        "for i in [0, 1, 2]:\n",
        "    print(\"valeur :\", i)\n",
        "print(\"Fin\")"
      ],
      "metadata": {
        "id": "besUmd8UZyUR"
      },
      "execution_count": null,
      "outputs": []
    },
    {
      "cell_type": "markdown",
      "source": [
        "Question 1: Créer une liste de 10 à 100 espacée de 20\n",
        "Créer ensuite une liste allant de -10 à -100 espacée de 30"
      ],
      "metadata": {
        "id": "mBrIYeoE90O3"
      }
    },
    {
      "cell_type": "code",
      "source": [
        "# à compléter"
      ],
      "metadata": {
        "id": "W1qe7iW492pm"
      },
      "execution_count": null,
      "outputs": []
    },
    {
      "cell_type": "markdown",
      "source": [
        "# Librairie NumPy\n",
        "https://courspython.com/apprendre-numpy.html"
      ],
      "metadata": {
        "id": "HxyhH6uNqqwR"
      }
    },
    {
      "cell_type": "markdown",
      "source": [
        "La bibliothèque NumPy (http://www.numpy.org/) permet d’effectuer des calculs numériques avec Python. Elle introduit une gestion facilitée des tableaux de nombres.\n",
        "\n",
        "Pour utiliser NumPy, vous devez au préalable vous placer dans un environnement qui comprend cette bibliothèque, voir Introduction à Python.\n",
        "\n",
        "Il faut au départ importer le package numpy avec l’instruction suivante :"
      ],
      "metadata": {
        "id": "5KoTlPmgsV5j"
      }
    },
    {
      "cell_type": "code",
      "source": [
        "import numpy as np"
      ],
      "metadata": {
        "id": "xmHzJx1YsXZo"
      },
      "execution_count": 3,
      "outputs": []
    },
    {
      "cell_type": "markdown",
      "source": [
        "Variables prédéfinies"
      ],
      "metadata": {
        "id": "I6Pj6XE_sf0S"
      }
    },
    {
      "cell_type": "markdown",
      "source": [
        "NumPy permet d’obtenir la valeur de pi."
      ],
      "metadata": {
        "id": "Fs6lPO5FslWU"
      }
    },
    {
      "cell_type": "code",
      "source": [
        "np.pi"
      ],
      "metadata": {
        "id": "D5xVALuZsfT2"
      },
      "execution_count": null,
      "outputs": []
    },
    {
      "cell_type": "markdown",
      "source": [
        "Tableaux - numpy.array(). Voir la différence avec une liste! ici on peut stocker différents types de variables."
      ],
      "metadata": {
        "id": "JZQ27vP9syv2"
      }
    },
    {
      "cell_type": "code",
      "source": [
        "a = np.array([1, 2, 3, 4])\n",
        "a"
      ],
      "metadata": {
        "id": "yl3sSUvjsz4i"
      },
      "execution_count": null,
      "outputs": []
    },
    {
      "cell_type": "code",
      "source": [
        "b = np.array([\"numbers\", 3, 6, 9, 12])\n",
        "print(b)"
      ],
      "metadata": {
        "id": "HfWwvQ2Ktklu"
      },
      "execution_count": null,
      "outputs": []
    },
    {
      "cell_type": "markdown",
      "source": [
        "Tableau 2D"
      ],
      "metadata": {
        "id": "0XCn3fU3aGu7"
      }
    },
    {
      "cell_type": "code",
      "source": [
        "c = np.array([[1, 2, 3], [4, 5, 6]])\n",
        "c"
      ],
      "metadata": {
        "id": "MiKrPohhaKkp"
      },
      "execution_count": null,
      "outputs": []
    },
    {
      "cell_type": "markdown",
      "source": [
        "La fonction arange()"
      ],
      "metadata": {
        "id": "Snj3MJPbbCfH"
      }
    },
    {
      "cell_type": "code",
      "source": [
        "m = np.arange(3,15,2)\n",
        "m"
      ],
      "metadata": {
        "id": "mILRqovcbE1q"
      },
      "execution_count": null,
      "outputs": []
    },
    {
      "cell_type": "markdown",
      "source": [
        "Question 2: Créez un tableau de 2 colonnes et 3 lignes comprenant les valeurs suivantes 1, 2, 3, 4, 5 et 6"
      ],
      "metadata": {
        "id": "mOTH8LdB_QmK"
      }
    },
    {
      "cell_type": "code",
      "source": [
        "# à compléter"
      ],
      "metadata": {
        "id": "mcLAuunfABWl"
      },
      "execution_count": null,
      "outputs": []
    },
    {
      "cell_type": "markdown",
      "source": [
        "# Librairie Pandas\n",
        "Pandas est une librairie Python utilisée pour travailler avec des sets de données plus complexes qu'avec Numby.\n",
        "https://pandas.pydata.org/docs/user_guide/10min.html"
      ],
      "metadata": {
        "id": "PV7CclasqZsk"
      }
    },
    {
      "cell_type": "code",
      "source": [
        "import pandas as pd"
      ],
      "metadata": {
        "id": "eb_FOoOKqeO4"
      },
      "execution_count": null,
      "outputs": []
    },
    {
      "cell_type": "markdown",
      "source": [
        "Création d'une série"
      ],
      "metadata": {
        "id": "djBY1DvdzGj9"
      }
    },
    {
      "cell_type": "code",
      "source": [
        "s = pd.Series([1, 3, 5, np.nan, 6, 8])\n",
        "s\n"
      ],
      "metadata": {
        "id": "bDXSqGTAzL4s"
      },
      "execution_count": null,
      "outputs": []
    },
    {
      "cell_type": "markdown",
      "source": [
        "Création d'une structure ou table à 2 dimensions "
      ],
      "metadata": {
        "id": "zo9FvXoxzaNV"
      }
    },
    {
      "cell_type": "code",
      "source": [
        "dates = pd.date_range(\"20130101\", periods=6)\n",
        "dates"
      ],
      "metadata": {
        "id": "7_DsVVFqzPXX"
      },
      "execution_count": null,
      "outputs": []
    },
    {
      "cell_type": "code",
      "source": [
        "df = pd.DataFrame(np.random.randn(6, 4), index=dates, columns=list(\"ABCD\"))\n",
        "df"
      ],
      "metadata": {
        "id": "wt76MJuPz3Ec"
      },
      "execution_count": null,
      "outputs": []
    },
    {
      "cell_type": "markdown",
      "source": [
        "Sélection d'une colonne"
      ],
      "metadata": {
        "id": "iV1erG6H0TLd"
      }
    },
    {
      "cell_type": "code",
      "source": [
        "df[\"C\"]"
      ],
      "metadata": {
        "id": "jQoeikin0XhA"
      },
      "execution_count": null,
      "outputs": []
    },
    {
      "cell_type": "markdown",
      "source": [
        "Sélection d'une ligne"
      ],
      "metadata": {
        "id": "C6308ezA0ccd"
      }
    },
    {
      "cell_type": "code",
      "source": [
        "df.loc[dates[1]]"
      ],
      "metadata": {
        "id": "JbR6iU8s0fhl"
      },
      "execution_count": null,
      "outputs": []
    },
    {
      "cell_type": "markdown",
      "source": [
        "Visualiser une partie des données"
      ],
      "metadata": {
        "id": "uJp61jrMeA8a"
      }
    },
    {
      "cell_type": "code",
      "source": [
        "df.head()"
      ],
      "metadata": {
        "id": "vAho_rH5eBnb"
      },
      "execution_count": null,
      "outputs": []
    },
    {
      "cell_type": "code",
      "source": [
        "df.tail(3)"
      ],
      "metadata": {
        "id": "Kzd4LePneKB-"
      },
      "execution_count": null,
      "outputs": []
    },
    {
      "cell_type": "markdown",
      "source": [
        "Classer le tableau par axe ou index"
      ],
      "metadata": {
        "id": "zMUnmR4Vef_7"
      }
    },
    {
      "cell_type": "code",
      "source": [
        "df.sort_index(axis=1, ascending=False)"
      ],
      "metadata": {
        "id": "obEiUAbUekmj"
      },
      "execution_count": null,
      "outputs": []
    },
    {
      "cell_type": "code",
      "source": [
        "df.sort_values(by=\"B\")"
      ],
      "metadata": {
        "id": "rg8Qt8mCen2o"
      },
      "execution_count": null,
      "outputs": []
    },
    {
      "cell_type": "markdown",
      "source": [
        "Sélection par label"
      ],
      "metadata": {
        "id": "hV93QbGsfFYr"
      }
    },
    {
      "cell_type": "code",
      "source": [
        "df.loc[dates[2]]"
      ],
      "metadata": {
        "id": "GqnG3MiWfJbv"
      },
      "execution_count": null,
      "outputs": []
    },
    {
      "cell_type": "markdown",
      "source": [
        "Sélection par position"
      ],
      "metadata": {
        "id": "Q9VXBtS5fRW1"
      }
    },
    {
      "cell_type": "code",
      "source": [
        "df.iloc[:, 3]"
      ],
      "metadata": {
        "id": "2VeNOM0qfUev"
      },
      "execution_count": null,
      "outputs": []
    },
    {
      "cell_type": "markdown",
      "source": [
        "Données manquantes. On utilise la fonction np.nan (Not A Number) pour représenter les données manquantes."
      ],
      "metadata": {
        "id": "2Z9IwFvXf79N"
      }
    },
    {
      "cell_type": "code",
      "source": [
        "df1 = df.reindex(index=dates[0:4], columns=list(df.columns) + [\"E\"])\n",
        "df1.loc[dates[0] : dates[1], \"A\"] = np.nan\n",
        "df1.loc[dates[0] : dates[1], \"E\"] = 1\n",
        "df1"
      ],
      "metadata": {
        "id": "Lr37hsZfgI-x"
      },
      "execution_count": null,
      "outputs": []
    },
    {
      "cell_type": "markdown",
      "source": [
        "Question 3: Voici plusieurs listes de données correspondants aux planètes du système solaire. On a une liste pour le nom des planètes, une liste pour la distance et une pour la masse.\n",
        "Complétez la cellule afin d'avoir un dataframe planetes qui représentent ces variables. On pourra mettre l'ordre des planètes comme indice. Le nom des colonnes sera 'nom', 'distance' et 'masse'.\n",
        "Les unitées sont relatives à la Terre (=1)"
      ],
      "metadata": {
        "id": "9FVUawm--5UQ"
      }
    },
    {
      "cell_type": "code",
      "source": [
        "nom_planetes = ['Mercury', 'Venus', 'Earth', 'Mars', 'Jupiter', 'Saturn', 'Uranus', 'Neptune']\n",
        "distance_planetes = [ 0.38709893, 0.72333199, 1.0, 1.52366231, 5.20336301, 9.6, 19.19126393, 30.0]\n",
        "masse_planetes =[0.055, 0.8150000000000001, 1.0, 0.107, 317.8, 95.152, 14.536, 17.147]\n",
        "\n",
        "# à compléter ..."
      ],
      "metadata": {
        "id": "S6yYlilz_DJb"
      },
      "execution_count": null,
      "outputs": []
    },
    {
      "cell_type": "markdown",
      "source": [
        "# Librairie Matplotlib\n",
        "L'interface Pyplot de Matplotlib permet de faire les graphiques."
      ],
      "metadata": {
        "id": "79U3bWObAZgk"
      }
    },
    {
      "cell_type": "code",
      "source": [
        "import matplotlib.pyplot as plt\n",
        "plt.plot([1, 2, 3, 4])\n",
        "plt.ylabel('some numbers')\n",
        "plt.show()"
      ],
      "metadata": {
        "id": "JFpdIIZvAmah"
      },
      "execution_count": null,
      "outputs": []
    },
    {
      "cell_type": "markdown",
      "source": [
        "Formattez le style de votre graphique"
      ],
      "metadata": {
        "id": "1eSBzNZyA72_"
      }
    },
    {
      "cell_type": "code",
      "source": [
        "plt.plot([1, 2, 3, 4], [1, 4, 9, 16], 'ro')\n",
        "plt.axis([0, 6, 0, 20])\n",
        "plt.show()"
      ],
      "metadata": {
        "id": "8NZ2rOzUAwTG"
      },
      "execution_count": null,
      "outputs": []
    },
    {
      "cell_type": "markdown",
      "source": [
        "Faire des scatter plots"
      ],
      "metadata": {
        "id": "66gszRMmBIHh"
      }
    },
    {
      "cell_type": "code",
      "source": [
        "names = ['group_a', 'group_b', 'group_c']\n",
        "values = [1, 10, 100]\n",
        "\n",
        "plt.figure(figsize=(9, 3))\n",
        "\n",
        "plt.subplot(131)\n",
        "plt.bar(names, values)\n",
        "plt.subplot(132)\n",
        "plt.scatter(names, values)\n",
        "plt.subplot(133)\n",
        "plt.plot(names, values)\n",
        "plt.suptitle('Categorical Plotting')\n",
        "plt.show()"
      ],
      "metadata": {
        "id": "6nd0oqZLBN3j"
      },
      "execution_count": null,
      "outputs": []
    },
    {
      "cell_type": "markdown",
      "source": [
        "Question 4: Reprenez le dataframe planetes créé plus haut et réaliser un scatter plot présentant la distance des planètes (en x) par rapport à leur masse (en y)"
      ],
      "metadata": {
        "id": "p0gnRTKaBnEx"
      }
    },
    {
      "cell_type": "code",
      "source": [
        "# à compléter ...."
      ],
      "metadata": {
        "id": "bwF1JJ71Bx1N"
      },
      "execution_count": null,
      "outputs": []
    }
  ]
}