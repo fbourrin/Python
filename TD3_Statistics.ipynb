{
  "nbformat": 4,
  "nbformat_minor": 0,
  "metadata": {
    "colab": {
      "provenance": [],
      "authorship_tag": "ABX9TyO0MvkRZ8EMY2I5pIXOUmtK",
      "include_colab_link": true
    },
    "kernelspec": {
      "name": "python3",
      "display_name": "Python 3"
    },
    "language_info": {
      "name": "python"
    }
  },
  "cells": [
    {
      "cell_type": "markdown",
      "metadata": {
        "id": "view-in-github",
        "colab_type": "text"
      },
      "source": [
        "<a href=\"https://colab.research.google.com/github/fbourrin/Python/blob/main/TD3_Statistics.ipynb\" target=\"_parent\"><img src=\"https://colab.research.google.com/assets/colab-badge.svg\" alt=\"Open In Colab\"/></a>"
      ]
    },
    {
      "cell_type": "markdown",
      "source": [
        "Importez les librairies Numby, Pandas et Matplotlib comme vous l'avez fait précédemment."
      ],
      "metadata": {
        "id": "WYnwagPw3HHL"
      }
    },
    {
      "cell_type": "code",
      "execution_count": null,
      "metadata": {
        "id": "_VP-oGFIVXnP"
      },
      "outputs": [],
      "source": [
        "# à compléter"
      ]
    },
    {
      "cell_type": "markdown",
      "source": [
        "# 1. Chargement des données\n",
        "Charger le fichier count.csv.\n",
        "Le fichier comporte 3 colonnes de 24 valeurs. Ce sont des données chiffrées de comptage de poissons heure par heure (les lignes) à trois localisations distinctes du Golfe du Lion (les colonnes) pour une seule journée.\n",
        "Chargez vos données sous le dataframe df."
      ],
      "metadata": {
        "id": "1aYeRvIUVYb_"
      }
    },
    {
      "cell_type": "code",
      "source": [
        "from google.colab import files # importer un fichier depuis colab\n",
        "uploaded = files.upload() # choisir count.csv"
      ],
      "metadata": {
        "id": "7N-reESeVatG"
      },
      "execution_count": null,
      "outputs": []
    },
    {
      "cell_type": "code",
      "source": [
        "# à compléter"
      ],
      "metadata": {
        "id": "2isLlaSDV9_C"
      },
      "execution_count": null,
      "outputs": []
    },
    {
      "cell_type": "markdown",
      "source": [
        "# 2.Vérification des données\n",
        "Récupérer la 3e colonne de votre dataframe sous la variable E3."
      ],
      "metadata": {
        "id": "L15PHOHf3x1e"
      }
    },
    {
      "cell_type": "code",
      "source": [
        "# à compléter"
      ],
      "metadata": {
        "id": "lKs4fR73ZhTC"
      },
      "execution_count": null,
      "outputs": []
    },
    {
      "cell_type": "markdown",
      "source": [
        "Vérifiez que votre set de données ne comporte pas de valeurs manquantes (nan) avec la fonction isnan()."
      ],
      "metadata": {
        "id": "tn7j5z-44IOb"
      }
    },
    {
      "cell_type": "code",
      "source": [
        "# à compléter\n"
      ],
      "metadata": {
        "id": "Bwzeb9MX4QUj"
      },
      "execution_count": null,
      "outputs": []
    },
    {
      "cell_type": "markdown",
      "source": [
        "# 3. Vérifications des valeurs aberrantes\n",
        "Les valeurs aberrantes sont des valeurs radicalement différentes des tendances du reste des données. Elles peuvent provenir d’erreurs de mesure ou représenter\n",
        " des caractéristiques importantes des données. Il convient de comprendre les données et leur source pour identifier les valeurs aberrantes et décider comment les traiter. L'une des méthodes courantes d’identification des valeurs aberrantes consiste à rechercher des valeurs qui s’écartent de plus d’un certain nombre d’écarts-types σ de la moyenne μ.\n",
        "Tracez un histogramme des valeurs E3 classées dans 10 classes avec la fonction hist()."
      ],
      "metadata": {
        "id": "25VOoDCC4g5k"
      }
    },
    {
      "cell_type": "code",
      "source": [
        "# à compléter"
      ],
      "metadata": {
        "id": "IxscUVFGaF3u"
      },
      "execution_count": null,
      "outputs": []
    },
    {
      "cell_type": "markdown",
      "source": [
        "Calculez la moyenne mu3 et la déviation standard std3 de votre set de données E3."
      ],
      "metadata": {
        "id": "6_pxWaHB5v1R"
      }
    },
    {
      "cell_type": "code",
      "source": [
        "# à compléter"
      ],
      "metadata": {
        "id": "QDC4CfTy53I5"
      },
      "execution_count": null,
      "outputs": []
    },
    {
      "cell_type": "code",
      "source": [
        "# à compléter"
      ],
      "metadata": {
        "id": "R4tKvA2gafpX"
      },
      "execution_count": null,
      "outputs": []
    },
    {
      "cell_type": "markdown",
      "source": [
        "Tracer une ligne verticale sur votre histogramme correspondant à la moyenne avec la fonction axvline().\n",
        "Rajoutez une ligne verticale pour μ+σ et μ+2σ."
      ],
      "metadata": {
        "id": "g8IIIM6x7Dup"
      }
    },
    {
      "cell_type": "code",
      "source": [
        "# à compléter"
      ],
      "metadata": {
        "id": "A0xuUFxD6o0g"
      },
      "execution_count": null,
      "outputs": []
    },
    {
      "cell_type": "markdown",
      "source": [
        "Ce tracé montre que certaines des données sont situées à plus de deux écarts-types au-dessus de la moyenne. Si vous identifiez ces données comme des erreurs (et non pas des caractéristiques), remplacez-les par des nan dans une nouvelle colonne nommée E3m. affichez votre nouveau df."
      ],
      "metadata": {
        "id": "5lFTvmvhE98R"
      }
    },
    {
      "cell_type": "code",
      "source": [
        "# à compléter"
      ],
      "metadata": {
        "id": "0INf8wqXFEfF"
      },
      "execution_count": null,
      "outputs": []
    },
    {
      "cell_type": "markdown",
      "source": [
        "# 4.Lissage et filtrage des données\n",
        "Un tracé en série chronologique des données à la troisième localisation (avec la valeur aberrante supprimée dans la section « Valeurs aberrantes ») permet de visualiser les données.\n",
        "Tracez cette courbe."
      ],
      "metadata": {
        "id": "KRhgmGF8OINd"
      }
    },
    {
      "cell_type": "code",
      "source": [
        "# à compléter"
      ],
      "metadata": {
        "id": "uedtlzQwOX6h"
      },
      "execution_count": null,
      "outputs": []
    },
    {
      "cell_type": "code",
      "source": [],
      "metadata": {
        "id": "b6UFDhvtUvsW"
      },
      "execution_count": null,
      "outputs": []
    },
    {
      "cell_type": "markdown",
      "source": [
        "La valeur NaN à l’heure 20 apparaît comme un trou dans le tracé. Ce traitement des valeurs NaN est typique des fonctions de tracé Python. Les données bruitées montrent des variations aléatoires par rapport aux valeurs attendues. Il peut s’avérer utile de lisser les données pour illustrer les principales caractéristiques avant de bâtir un modèle. Deux hypothèses de base sont à la base du lissage :\n",
        "- La relation entre le prédicteur (heure) et la réponse (volume de circulation) est lisse.\n",
        "- L'algorithme de lissage produit des valeurs qui constituent de meilleures estimations des valeurs attendues, car le bruit a été réduit.\n",
        "Appliquez la méthode de lissage par moyenne mobile aux données en utilisant la fonction rolling().mean().\n",
        "Utilisez une fenêtre de moyenne mobile de 3."
      ],
      "metadata": {
        "id": "kAAamG0XPY-0"
      }
    },
    {
      "cell_type": "code",
      "source": [
        "# à compléter"
      ],
      "metadata": {
        "id": "VYCSSesqPQq_"
      },
      "execution_count": null,
      "outputs": []
    },
    {
      "cell_type": "markdown",
      "source": [
        "L’étendue du lissage est contrôlée à l’aide de la variable window. Le calcul de la moyenne produit des valeurs NaN lorsque la fenêtre de lissage inclut la valeur NaN dans les données,\n",
        "ce qui augmente la taille du trou dans les données lissées.\n",
        "Utilisez la variable min_periods=1 dans votre fonction rolling(). Qu'observez-vous? rajoutez également la variable center=True. Qu'observez vous?\n",
        "Tracez les courbes obtenues.\n"
      ],
      "metadata": {
        "id": "na3jxS4fVH2M"
      }
    },
    {
      "cell_type": "code",
      "source": [
        "# à compléter"
      ],
      "metadata": {
        "id": "KcfpJDeVU5-d"
      },
      "execution_count": null,
      "outputs": []
    },
    {
      "cell_type": "markdown",
      "source": [
        "Utilisez la fonction interpolate() pour interpoler les données au dessus des valeurs nan de manière linéaire. Tracez le résultat."
      ],
      "metadata": {
        "id": "gnr7wFjSg780"
      }
    },
    {
      "cell_type": "code",
      "source": [
        "# à compléter"
      ],
      "metadata": {
        "id": "OTMI5pO1g9LC"
      },
      "execution_count": null,
      "outputs": []
    }
  ]
}