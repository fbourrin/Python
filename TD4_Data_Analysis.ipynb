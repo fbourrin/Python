{
  "nbformat": 4,
  "nbformat_minor": 0,
  "metadata": {
    "colab": {
      "provenance": [],
      "authorship_tag": "ABX9TyNfV1mqyCTkDEz3w/+dwMMX",
      "include_colab_link": true
    },
    "kernelspec": {
      "name": "python3",
      "display_name": "Python 3"
    },
    "language_info": {
      "name": "python"
    }
  },
  "cells": [
    {
      "cell_type": "markdown",
      "metadata": {
        "id": "view-in-github",
        "colab_type": "text"
      },
      "source": [
        "<a href=\"https://colab.research.google.com/github/fbourrin/Python/blob/main/TD4_Data_Analysis.ipynb\" target=\"_parent\"><img src=\"https://colab.research.google.com/assets/colab-badge.svg\" alt=\"Open In Colab\"/></a>"
      ]
    },
    {
      "cell_type": "markdown",
      "source": [
        "# TD4: Data Analysis Part2\n",
        "Chargez les librairies habituelles\n",
        "Chargez ls données count.csv du dernier TD."
      ],
      "metadata": {
        "id": "cEnljAwixaUJ"
      }
    },
    {
      "cell_type": "code",
      "execution_count": null,
      "metadata": {
        "id": "6EAHyGD5xY9n"
      },
      "outputs": [],
      "source": [
        "# à compléter"
      ]
    },
    {
      "cell_type": "markdown",
      "source": [
        "## 1.Résumé des données\n",
        "calculez la moyenne des données pour les 3 séries d'observation\n",
        "\n",
        "estimez la médiane et le mode\n",
        "\n",
        "mesurez l'échelle des données pour les 3 séries d'observation\n",
        "\n",
        "calculez l'écart-type et la variance pour les 3 séries d'observation"
      ],
      "metadata": {
        "id": "zUX5kTBwx5JK"
      }
    },
    {
      "cell_type": "code",
      "source": [
        "# à compléter"
      ],
      "metadata": {
        "id": "GpItVCLlyEJp"
      },
      "execution_count": null,
      "outputs": []
    },
    {
      "cell_type": "markdown",
      "source": [
        "## 2.Représentez les données\n",
        "faire un graphique de la forme de la distribution pour chacune des séries sur le même graphique\n",
        "\n",
        "utilisez la fonction plot.hist()"
      ],
      "metadata": {
        "id": "hAEMo8-wyT2u"
      }
    },
    {
      "cell_type": "code",
      "source": [
        "# à compléter"
      ],
      "metadata": {
        "id": "uHQtLBl6yeIE"
      },
      "execution_count": null,
      "outputs": []
    },
    {
      "cell_type": "markdown",
      "source": [
        "Sur une nouvelle figure faire 4 subplots avec 1 histogramme de la\n",
        "distribution 1 en utilisant 5, 10, 24 et 100 bins respectivement\n",
        "légendez correctement\n",
        "\n",
        "utilisez les fonctions plot.hist() et plt.subplot()"
      ],
      "metadata": {
        "id": "C6EGCjn3ym6n"
      }
    },
    {
      "cell_type": "code",
      "source": [
        "# à compléter"
      ],
      "metadata": {
        "id": "qJreJMvpyxnW"
      },
      "execution_count": null,
      "outputs": []
    },
    {
      "cell_type": "markdown",
      "source": [
        "## 4. Modélisation des données"
      ],
      "metadata": {
        "id": "ih0mX_owPHcS"
      }
    },
    {
      "cell_type": "markdown",
      "source": [
        "on utilise la fonction polyfit() de np.polynomial pour obtenir les paramètres du polynome on calcule ensuite les valeurs Y=f(X)\n",
        "elle est inclue dans numby\n",
        "\n",
        "\n"
      ],
      "metadata": {
        "id": "ycSlzSsaQb5C"
      }
    },
    {
      "cell_type": "code",
      "source": [
        "from np.polynomial import polynomial as P\n",
        "#ensuite utilisez c, stats = P.polyfit(x,y,n,full=True) avec n le nombre de polynome"
      ],
      "metadata": {
        "id": "fmu1x8TSPOd3"
      },
      "execution_count": null,
      "outputs": []
    },
    {
      "cell_type": "markdown",
      "source": [
        "on utilise la fonction polyfit pour obtenir les paramètres du polynome\n",
        "\n",
        "par exemple pour une relation linéaire on prendra un ordre = 1\n",
        "\n",
        "on calcule ensuite les valeurs Y=f(X) avec la fonction np.polyval()\n",
        "\n",
        "on fait la même chose pour un polynome d'ordre 2 et 3"
      ],
      "metadata": {
        "id": "ELucnbZVSWmT"
      }
    },
    {
      "cell_type": "code",
      "source": [
        "# à compléter"
      ],
      "metadata": {
        "id": "jZOSQmu3S7IW"
      },
      "execution_count": null,
      "outputs": []
    },
    {
      "cell_type": "markdown",
      "source": [
        "faire un graphique avec 4 subplots 2 x 2 avec la relation linéaire de c1, la relation polynomiale d'ordre 2 de c1, la même relation mais d'ordre 3"
      ],
      "metadata": {
        "id": "3qa4d6YSTOTM"
      }
    }
  ]
}